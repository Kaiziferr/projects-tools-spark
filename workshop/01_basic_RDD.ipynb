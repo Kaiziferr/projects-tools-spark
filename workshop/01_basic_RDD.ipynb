{
  "nbformat": 4,
  "nbformat_minor": 0,
  "metadata": {
    "colab": {
      "provenance": [],
      "authorship_tag": "ABX9TyPoL3fXxLSICUeX8laxZ2pt",
      "include_colab_link": true
    },
    "kernelspec": {
      "name": "python3",
      "display_name": "Python 3"
    },
    "language_info": {
      "name": "python"
    }
  },
  "cells": [
    {
      "cell_type": "markdown",
      "metadata": {
        "id": "view-in-github",
        "colab_type": "text"
      },
      "source": [
        "<a href=\"https://colab.research.google.com/github/Kaiziferr/projects-tools-spark/blob/main/workshop/01_basic_RDD.ipynb\" target=\"_parent\"><img src=\"https://colab.research.google.com/assets/colab-badge.svg\" alt=\"Open In Colab\"/></a>"
      ]
    },
    {
      "cell_type": "code",
      "source": [
        "!pip install pyspark"
      ],
      "metadata": {
        "colab": {
          "base_uri": "https://localhost:8080/"
        },
        "id": "VdLX20LkBF3s",
        "outputId": "cd7e8771-f89b-40ab-dfbb-659365933f2b"
      },
      "execution_count": 12,
      "outputs": [
        {
          "output_type": "stream",
          "name": "stdout",
          "text": [
            "Requirement already satisfied: pyspark in /usr/local/lib/python3.10/dist-packages (3.5.3)\n",
            "Requirement already satisfied: py4j==0.10.9.7 in /usr/local/lib/python3.10/dist-packages (from pyspark) (0.10.9.7)\n"
          ]
        }
      ]
    },
    {
      "cell_type": "markdown",
      "source": [
        "# **Session**\n",
        "\n",
        "---\n",
        "\n"
      ],
      "metadata": {
        "id": "GqY_6f9m5Kdx"
      }
    },
    {
      "cell_type": "code",
      "source": [
        "from pyspark.sql import SparkSession"
      ],
      "metadata": {
        "id": "X40jLVXR65U7"
      },
      "execution_count": 13,
      "outputs": []
    },
    {
      "cell_type": "code",
      "source": [
        "spark = SparkSession.builder.master(\"local[*]\").appName('A').getOrCreate()"
      ],
      "metadata": {
        "id": "5lwQpKra6-3s"
      },
      "execution_count": 14,
      "outputs": []
    },
    {
      "cell_type": "code",
      "source": [
        "spark"
      ],
      "metadata": {
        "colab": {
          "base_uri": "https://localhost:8080/",
          "height": 219
        },
        "id": "lQYbvHRi057g",
        "outputId": "df8e12a2-7303-4724-9642-f45a38e8547e"
      },
      "execution_count": 15,
      "outputs": [
        {
          "output_type": "execute_result",
          "data": {
            "text/plain": [
              "<pyspark.sql.session.SparkSession at 0x7d0928091ba0>"
            ],
            "text/html": [
              "\n",
              "            <div>\n",
              "                <p><b>SparkSession - in-memory</b></p>\n",
              "                \n",
              "        <div>\n",
              "            <p><b>SparkContext</b></p>\n",
              "\n",
              "            <p><a href=\"http://e3d29a04c1ac:4040\">Spark UI</a></p>\n",
              "\n",
              "            <dl>\n",
              "              <dt>Version</dt>\n",
              "                <dd><code>v3.5.3</code></dd>\n",
              "              <dt>Master</dt>\n",
              "                <dd><code>local[*]</code></dd>\n",
              "              <dt>AppName</dt>\n",
              "                <dd><code>A</code></dd>\n",
              "            </dl>\n",
              "        </div>\n",
              "        \n",
              "            </div>\n",
              "        "
            ]
          },
          "metadata": {},
          "execution_count": 15
        }
      ]
    },
    {
      "cell_type": "markdown",
      "source": [
        "# **RDD**\n",
        "---"
      ],
      "metadata": {
        "id": "lkr5H3W65DKh"
      }
    },
    {
      "cell_type": "code",
      "source": [
        "# Define Spark Session\n",
        "sc = spark.sparkContext\n",
        "sc"
      ],
      "metadata": {
        "colab": {
          "base_uri": "https://localhost:8080/",
          "height": 196
        },
        "id": "7F5lJDRV7NHy",
        "outputId": "5929ae1c-51df-44fd-89f9-6be607c7fff5"
      },
      "execution_count": 16,
      "outputs": [
        {
          "output_type": "execute_result",
          "data": {
            "text/plain": [
              "<SparkContext master=local[*] appName=A>"
            ],
            "text/html": [
              "\n",
              "        <div>\n",
              "            <p><b>SparkContext</b></p>\n",
              "\n",
              "            <p><a href=\"http://e3d29a04c1ac:4040\">Spark UI</a></p>\n",
              "\n",
              "            <dl>\n",
              "              <dt>Version</dt>\n",
              "                <dd><code>v3.5.3</code></dd>\n",
              "              <dt>Master</dt>\n",
              "                <dd><code>local[*]</code></dd>\n",
              "              <dt>AppName</dt>\n",
              "                <dd><code>A</code></dd>\n",
              "            </dl>\n",
              "        </div>\n",
              "        "
            ]
          },
          "metadata": {},
          "execution_count": 16
        }
      ]
    },
    {
      "cell_type": "code",
      "source": [
        "# RDD Empty\n",
        "rdd_empty = sc.emptyRDD()\n",
        "rdd_empty"
      ],
      "metadata": {
        "colab": {
          "base_uri": "https://localhost:8080/"
        },
        "id": "FhkAFSXS7ULT",
        "outputId": "8cc24d27-46ea-46ed-e49a-a52c13e6bc37"
      },
      "execution_count": 17,
      "outputs": [
        {
          "output_type": "execute_result",
          "data": {
            "text/plain": [
              "EmptyRDD[8] at emptyRDD at NativeMethodAccessorImpl.java:0"
            ]
          },
          "metadata": {},
          "execution_count": 17
        }
      ]
    },
    {
      "cell_type": "code",
      "source": [
        "# Create to a RDD Paralelize with 3 partitions\n",
        "rdd_empty = sc.parallelize([], 3)\n",
        "rdd_empty.getNumPartitions()"
      ],
      "metadata": {
        "colab": {
          "base_uri": "https://localhost:8080/"
        },
        "id": "UNqFy8mi7nIT",
        "outputId": "91cee5ad-185b-4faf-976e-9c37dbfe48f6"
      },
      "execution_count": 18,
      "outputs": [
        {
          "output_type": "execute_result",
          "data": {
            "text/plain": [
              "3"
            ]
          },
          "metadata": {},
          "execution_count": 18
        }
      ]
    },
    {
      "cell_type": "code",
      "source": [
        "# Create to a RDD Paralelize with 2 partitions\n",
        "rdd = sc.parallelize([1,2,3,4,5], 2)\n",
        "rdd.collect(), rdd.getNumPartitions()"
      ],
      "metadata": {
        "colab": {
          "base_uri": "https://localhost:8080/"
        },
        "id": "akuyurKp7zbc",
        "outputId": "37a39bb2-3006-4cb8-c1aa-aa0e48e24a36"
      },
      "execution_count": 19,
      "outputs": [
        {
          "output_type": "execute_result",
          "data": {
            "text/plain": [
              "([1, 2, 3, 4, 5], 2)"
            ]
          },
          "metadata": {},
          "execution_count": 19
        }
      ]
    },
    {
      "cell_type": "code",
      "source": [
        "rdd.take(2)"
      ],
      "metadata": {
        "colab": {
          "base_uri": "https://localhost:8080/"
        },
        "id": "ZDTU7JXJ7zYL",
        "outputId": "08a46630-981d-4c91-f6a9-3ba3b2fde203"
      },
      "execution_count": 20,
      "outputs": [
        {
          "output_type": "execute_result",
          "data": {
            "text/plain": [
              "[1, 2]"
            ]
          },
          "metadata": {},
          "execution_count": 20
        }
      ]
    },
    {
      "cell_type": "code",
      "source": [
        "# Create a RDD from text\n",
        "rdd_text = sc.textFile('./data/rdd_source.txt')\n",
        "rdd_text.collect(), rdd_text.getNumPartitions()"
      ],
      "metadata": {
        "colab": {
          "base_uri": "https://localhost:8080/"
        },
        "id": "nzfmsR7n7zFD",
        "outputId": "63401c77-26ce-41b1-b0d5-0dec61ff22d8"
      },
      "execution_count": 21,
      "outputs": [
        {
          "output_type": "execute_result",
          "data": {
            "text/plain": [
              "(['Hola se me', 'Olvido guardar', 'La información', 'de el Archivo'], 2)"
            ]
          },
          "metadata": {},
          "execution_count": 21
        }
      ]
    },
    {
      "cell_type": "code",
      "source": [
        "# Crear a RDD text full file\n",
        "rdd_text_full = sc.wholeTextFiles('./data/rdd_source.txt')\n",
        "rdd_text_full.collect(), rdd_text_full.getNumPartitions()"
      ],
      "metadata": {
        "colab": {
          "base_uri": "https://localhost:8080/"
        },
        "id": "hu1QZ7R68Gbb",
        "outputId": "8be04295-ac8d-41d5-83e3-abb3a1a0b0d1"
      },
      "execution_count": 22,
      "outputs": [
        {
          "output_type": "execute_result",
          "data": {
            "text/plain": [
              "([('file:/content/data/rdd_source.txt',\n",
              "   'Hola se me\\r\\nOlvido guardar\\r\\nLa información\\r\\nde el Archivo')],\n",
              " 1)"
            ]
          },
          "metadata": {},
          "execution_count": 22
        }
      ]
    },
    {
      "cell_type": "code",
      "source": [
        "# Any Operation\n",
        "rdd_sum = rdd.map(lambda x: x+1)\n",
        "rdd_sum.collect()"
      ],
      "metadata": {
        "colab": {
          "base_uri": "https://localhost:8080/"
        },
        "id": "OKE9yv2ftPDQ",
        "outputId": "26f1ffa5-fc19-4371-fc64-e779d3103546"
      },
      "execution_count": 23,
      "outputs": [
        {
          "output_type": "execute_result",
          "data": {
            "text/plain": [
              "[2, 3, 4, 5, 6]"
            ]
          },
          "metadata": {},
          "execution_count": 23
        }
      ]
    },
    {
      "cell_type": "code",
      "source": [
        "rdd = sc.parallelize([\n",
        "    'azul',\n",
        "    'azul',\n",
        "    'verde',\n",
        "    'rojo',\n",
        "    'rojo',\n",
        "    'verde',\n",
        "    'negro'\n",
        "])\n",
        "\n",
        "out_blue_rdd = rdd.filter(lambda x: x!='azul')\n",
        "print(out_blue_rdd.collect())\n",
        "out_red_rdd = out_blue_rdd.filter(lambda x: x!='rojo')\n",
        "print(out_red_rdd.collect())\n",
        "out_black_rdd = out_red_rdd.filter(lambda x: x!='negro')\n",
        "print(out_black_rdd.collect())"
      ],
      "metadata": {
        "colab": {
          "base_uri": "https://localhost:8080/"
        },
        "id": "DUplRP_ytggX",
        "outputId": "e2cd873b-67ad-4dec-99ed-661791ec7ed2"
      },
      "execution_count": 24,
      "outputs": [
        {
          "output_type": "stream",
          "name": "stdout",
          "text": [
            "['verde', 'rojo', 'rojo', 'verde', 'negro']\n",
            "['verde', 'verde', 'negro']\n",
            "['verde', 'verde']\n"
          ]
        }
      ]
    },
    {
      "cell_type": "code",
      "source": [
        "rdd_le = sc.parallelize(['Justin', 'Violeta', 'Lucas', 'Mo'])\n",
        "rdd_le = rdd_le.map(lambda x: x.upper())\n",
        "rdd_le.collect()"
      ],
      "metadata": {
        "colab": {
          "base_uri": "https://localhost:8080/"
        },
        "id": "RFECJHmfuTJh",
        "outputId": "535416e0-7e8f-4737-fcea-c7f8eb41331d"
      },
      "execution_count": 25,
      "outputs": [
        {
          "output_type": "execute_result",
          "data": {
            "text/plain": [
              "['JUSTIN', 'VIOLETA', 'LUCAS', 'MO']"
            ]
          },
          "metadata": {},
          "execution_count": 25
        }
      ]
    },
    {
      "cell_type": "code",
      "source": [
        "rdd_le = rdd_le.map(lambda x: 'Hello '+x)\n",
        "rdd_le.collect()"
      ],
      "metadata": {
        "colab": {
          "base_uri": "https://localhost:8080/"
        },
        "id": "b7Agcilnum9O",
        "outputId": "a6663eb6-cbfc-48dd-9fcd-20d6bb58b8c4"
      },
      "execution_count": 26,
      "outputs": [
        {
          "output_type": "execute_result",
          "data": {
            "text/plain": [
              "['Hello JUSTIN', 'Hello VIOLETA', 'Hello LUCAS', 'Hello MO']"
            ]
          },
          "metadata": {},
          "execution_count": 26
        }
      ]
    },
    {
      "cell_type": "code",
      "source": [
        "rdd_q = sc.parallelize([1,2,3,4,5])\n",
        "rdd_q = rdd_q.map(lambda x: (x, x**2))\n",
        "rdd_q.collect()"
      ],
      "metadata": {
        "colab": {
          "base_uri": "https://localhost:8080/"
        },
        "id": "iGYYDuRju80K",
        "outputId": "9eee6abe-3759-4c2d-e429-ddb7bd474de0"
      },
      "execution_count": 27,
      "outputs": [
        {
          "output_type": "execute_result",
          "data": {
            "text/plain": [
              "[(1, 1), (2, 4), (3, 9), (4, 16), (5, 25)]"
            ]
          },
          "metadata": {},
          "execution_count": 27
        }
      ]
    },
    {
      "cell_type": "code",
      "source": [
        "rdd_q = sc.parallelize([1,2,3,4,5])\n",
        "rdd_q = rdd_q.flatMap(lambda x: (x, x**2))\n",
        "rdd_q.collect()"
      ],
      "metadata": {
        "colab": {
          "base_uri": "https://localhost:8080/"
        },
        "id": "e-iZpHAyvLCf",
        "outputId": "d6d5f286-95f0-4b35-926f-2babe8a13ddb"
      },
      "execution_count": 28,
      "outputs": [
        {
          "output_type": "execute_result",
          "data": {
            "text/plain": [
              "[1, 1, 2, 4, 3, 9, 4, 16, 5, 25]"
            ]
          },
          "metadata": {},
          "execution_count": 28
        }
      ]
    },
    {
      "cell_type": "code",
      "source": [
        "rdd_le = sc.parallelize(['Justin', 'Violeta', 'Lucas', 'Mo'])\n",
        "rdd_le = rdd_le.flatMap(lambda x: (x, x.upper()))\n",
        "rdd_le.collect()"
      ],
      "metadata": {
        "colab": {
          "base_uri": "https://localhost:8080/"
        },
        "id": "AiDcxJovveyY",
        "outputId": "e130b067-7088-4bf2-c0d9-a76539d6772d"
      },
      "execution_count": 29,
      "outputs": [
        {
          "output_type": "execute_result",
          "data": {
            "text/plain": [
              "['Justin', 'JUSTIN', 'Violeta', 'VIOLETA', 'Lucas', 'LUCAS', 'Mo', 'MO']"
            ]
          },
          "metadata": {},
          "execution_count": 29
        }
      ]
    },
    {
      "cell_type": "code",
      "source": [
        "# Coalesce\n",
        "rdd = sc.parallelize([1,2,3,4,5], 10)\n",
        "rdd.getNumPartitions()"
      ],
      "metadata": {
        "colab": {
          "base_uri": "https://localhost:8080/"
        },
        "id": "YLedz2mWvkAO",
        "outputId": "b11f4d47-2277-45c0-f3ee-078454a5a644"
      },
      "execution_count": 30,
      "outputs": [
        {
          "output_type": "execute_result",
          "data": {
            "text/plain": [
              "10"
            ]
          },
          "metadata": {},
          "execution_count": 30
        }
      ]
    },
    {
      "cell_type": "code",
      "source": [
        "rdd = rdd.coalesce(5)\n",
        "rdd.getNumPartitions(), rdd.collect()"
      ],
      "metadata": {
        "colab": {
          "base_uri": "https://localhost:8080/"
        },
        "id": "wSwfKLiWvto9",
        "outputId": "b91cd893-4051-46e2-872a-6d58ff2dac7f"
      },
      "execution_count": 31,
      "outputs": [
        {
          "output_type": "execute_result",
          "data": {
            "text/plain": [
              "(5, [1, 2, 3, 4, 5])"
            ]
          },
          "metadata": {},
          "execution_count": 31
        }
      ]
    },
    {
      "cell_type": "code",
      "source": [
        "# repartion\n",
        "rdd = rdd.repartition(7)\n",
        "rdd.getNumPartitions()"
      ],
      "metadata": {
        "colab": {
          "base_uri": "https://localhost:8080/"
        },
        "id": "ykngBo5Wv4d3",
        "outputId": "9a81ecf8-7597-4a93-9e63-7b4aeb01794c"
      },
      "execution_count": 32,
      "outputs": [
        {
          "output_type": "execute_result",
          "data": {
            "text/plain": [
              "7"
            ]
          },
          "metadata": {},
          "execution_count": 32
        }
      ]
    },
    {
      "cell_type": "code",
      "source": [
        "rdd = sc.parallelize(\n",
        "    [\n",
        "        ('casa', 2),\n",
        "        ('parque', 1),\n",
        "        ('que', 5),\n",
        "        ('casa', 1),\n",
        "        ('escuela', 2),\n",
        "        ('casa', 1),\n",
        "        ('que', 1),\n",
        "\n",
        "    ]\n",
        ")\n",
        "rdd.collect()"
      ],
      "metadata": {
        "colab": {
          "base_uri": "https://localhost:8080/"
        },
        "id": "YyV1FPxTwPAB",
        "outputId": "dfe1f0b9-da41-4945-9da4-39fad69de8eb"
      },
      "execution_count": 33,
      "outputs": [
        {
          "output_type": "execute_result",
          "data": {
            "text/plain": [
              "[('casa', 2),\n",
              " ('parque', 1),\n",
              " ('que', 5),\n",
              " ('casa', 1),\n",
              " ('escuela', 2),\n",
              " ('casa', 1),\n",
              " ('que', 1)]"
            ]
          },
          "metadata": {},
          "execution_count": 33
        }
      ]
    },
    {
      "cell_type": "code",
      "source": [
        "rdd_reduce = rdd.reduceByKey(lambda x, y: x+y)\n",
        "rdd_reduce.collect()"
      ],
      "metadata": {
        "colab": {
          "base_uri": "https://localhost:8080/"
        },
        "id": "MuIErjA1wcI2",
        "outputId": "b7c637b1-0c9d-4ee9-ed99-45698e7e9ef1"
      },
      "execution_count": 34,
      "outputs": [
        {
          "output_type": "execute_result",
          "data": {
            "text/plain": [
              "[('parque', 1), ('que', 6), ('casa', 4), ('escuela', 2)]"
            ]
          },
          "metadata": {},
          "execution_count": 34
        }
      ]
    },
    {
      "cell_type": "code",
      "source": [
        "rdd = sc.parallelize(\n",
        "      [\n",
        "        ('casa', 2, 1),\n",
        "        ('parque', 1, -5),\n",
        "        ('que', 5, -1),\n",
        "        ('casa', 1, 8),\n",
        "        ('escuela', 2, -7),\n",
        "        ('casa', 1, 5),\n",
        "        ('que', 1, 9),\n",
        "    ]\n",
        ")\n",
        "\n",
        "rdd.collect()"
      ],
      "metadata": {
        "colab": {
          "base_uri": "https://localhost:8080/"
        },
        "id": "At9hpopxwm3F",
        "outputId": "e4239299-c743-48c5-97b6-a6b13a26a469"
      },
      "execution_count": 35,
      "outputs": [
        {
          "output_type": "execute_result",
          "data": {
            "text/plain": [
              "[('casa', 2, 1),\n",
              " ('parque', 1, -5),\n",
              " ('que', 5, -1),\n",
              " ('casa', 1, 8),\n",
              " ('escuela', 2, -7),\n",
              " ('casa', 1, 5),\n",
              " ('que', 1, 9)]"
            ]
          },
          "metadata": {},
          "execution_count": 35
        }
      ]
    },
    {
      "cell_type": "code",
      "source": [
        "rdd_reducido = rdd.map(lambda x: (x[0], x[1]+x[2])).reduceByKey(lambda x,y: x+y)\n",
        "rdd_reducido.collect()"
      ],
      "metadata": {
        "colab": {
          "base_uri": "https://localhost:8080/"
        },
        "id": "9gP2Zsz-wpke",
        "outputId": "4b574820-5333-431f-ad74-665796a8e7f7"
      },
      "execution_count": 36,
      "outputs": [
        {
          "output_type": "execute_result",
          "data": {
            "text/plain": [
              "[('parque', -4), ('que', 14), ('casa', 18), ('escuela', -5)]"
            ]
          },
          "metadata": {},
          "execution_count": 36
        }
      ]
    },
    {
      "cell_type": "code",
      "source": [
        "# Reduce\n",
        "rdd = sc.parallelize([1,2,3,4,5])\n",
        "rdd.reduce(lambda x, y: x+y), rdd.reduce(lambda x, y: x * y)"
      ],
      "metadata": {
        "colab": {
          "base_uri": "https://localhost:8080/"
        },
        "id": "3lZLF5HXw_6z",
        "outputId": "b72e351c-3b62-432d-8ae0-34cf0ddbf57e"
      },
      "execution_count": 37,
      "outputs": [
        {
          "output_type": "execute_result",
          "data": {
            "text/plain": [
              "(15, 120)"
            ]
          },
          "metadata": {},
          "execution_count": 37
        }
      ]
    },
    {
      "cell_type": "code",
      "source": [
        "rdd = sc.parallelize(['j', 'u', 's', 't', 'i', 'n'])\n",
        "rdd.count()"
      ],
      "metadata": {
        "colab": {
          "base_uri": "https://localhost:8080/"
        },
        "id": "kH4lCKH2xPjO",
        "outputId": "17ce7630-1c2e-477b-afc3-dcb16815e43f"
      },
      "execution_count": 38,
      "outputs": [
        {
          "output_type": "execute_result",
          "data": {
            "text/plain": [
              "6"
            ]
          },
          "metadata": {},
          "execution_count": 38
        }
      ]
    },
    {
      "cell_type": "code",
      "source": [
        "# saveAsTextFile\n",
        "rdd.saveAsTextFile('./data/a')"
      ],
      "metadata": {
        "id": "lPsIVihsx_ag"
      },
      "execution_count": 39,
      "outputs": []
    },
    {
      "cell_type": "code",
      "source": [
        "rdd.getNumPartitions()"
      ],
      "metadata": {
        "colab": {
          "base_uri": "https://localhost:8080/"
        },
        "id": "UTIV_L8_yNDo",
        "outputId": "02c39ea3-03be-4386-cc0c-9f300d03c47e"
      },
      "execution_count": 40,
      "outputs": [
        {
          "output_type": "execute_result",
          "data": {
            "text/plain": [
              "2"
            ]
          },
          "metadata": {},
          "execution_count": 40
        }
      ]
    },
    {
      "cell_type": "code",
      "source": [
        "rdd8 = rdd.repartition(8)\n",
        "rdd8.saveAsTextFile('./data/b')"
      ],
      "metadata": {
        "id": "ptcG5eC5yOj7"
      },
      "execution_count": 41,
      "outputs": []
    },
    {
      "cell_type": "markdown",
      "source": [
        "# **Almacenamiento Cahche**\n",
        "---"
      ],
      "metadata": {
        "id": "GYdLL3iBV7hy"
      }
    },
    {
      "cell_type": "code",
      "source": [
        "from pyspark.storagelevel import StorageLevel"
      ],
      "metadata": {
        "id": "j11Ab2_UO1ge"
      },
      "execution_count": 42,
      "outputs": []
    },
    {
      "cell_type": "code",
      "source": [
        "rdd = sc.parallelize([e for e in range(100)])\n",
        "rdd.take(10)"
      ],
      "metadata": {
        "colab": {
          "base_uri": "https://localhost:8080/"
        },
        "id": "6GjhZvK5CoGa",
        "outputId": "84fcf453-8fbc-4d62-d7de-67559b2585df"
      },
      "execution_count": 43,
      "outputs": [
        {
          "output_type": "execute_result",
          "data": {
            "text/plain": [
              "[0, 1, 2, 3, 4, 5, 6, 7, 8, 9]"
            ]
          },
          "metadata": {},
          "execution_count": 43
        }
      ]
    },
    {
      "cell_type": "code",
      "source": [
        "rdd.persist(StorageLevel.MEMORY_ONLY)"
      ],
      "metadata": {
        "colab": {
          "base_uri": "https://localhost:8080/"
        },
        "id": "-pVh6ehTPKax",
        "outputId": "7467d079-4983-484c-f507-59cad72258eb"
      },
      "execution_count": 44,
      "outputs": [
        {
          "output_type": "execute_result",
          "data": {
            "text/plain": [
              "ParallelCollectionRDD[65] at readRDDFromFile at PythonRDD.scala:289"
            ]
          },
          "metadata": {},
          "execution_count": 44
        }
      ]
    },
    {
      "cell_type": "code",
      "source": [
        "rdd.unpersist()"
      ],
      "metadata": {
        "colab": {
          "base_uri": "https://localhost:8080/"
        },
        "id": "F7Ufw2KcM82H",
        "outputId": "63f2617e-c497-4d25-8455-4955199d235d"
      },
      "execution_count": 45,
      "outputs": [
        {
          "output_type": "execute_result",
          "data": {
            "text/plain": [
              "ParallelCollectionRDD[65] at readRDDFromFile at PythonRDD.scala:289"
            ]
          },
          "metadata": {},
          "execution_count": 45
        }
      ]
    },
    {
      "cell_type": "code",
      "source": [
        "rdd.persist(StorageLevel.DISK_ONLY)"
      ],
      "metadata": {
        "colab": {
          "base_uri": "https://localhost:8080/"
        },
        "id": "t7Uvu6FBM8yQ",
        "outputId": "56a30e25-4ceb-4cf9-9424-e5d9d4c85072"
      },
      "execution_count": 46,
      "outputs": [
        {
          "output_type": "execute_result",
          "data": {
            "text/plain": [
              "ParallelCollectionRDD[65] at readRDDFromFile at PythonRDD.scala:289"
            ]
          },
          "metadata": {},
          "execution_count": 46
        }
      ]
    },
    {
      "cell_type": "markdown",
      "source": [
        "# **HashPartitioner**"
      ],
      "metadata": {
        "id": "_txEyKziZald"
      }
    },
    {
      "cell_type": "code",
      "source": [
        "rdd = sc.parallelize(['x', 'y', 'z'])\n",
        "rdd.collect()"
      ],
      "metadata": {
        "colab": {
          "base_uri": "https://localhost:8080/"
        },
        "id": "467zGiT6M8q-",
        "outputId": "ff4ac169-1240-46e0-a617-68fb858674f3"
      },
      "execution_count": 47,
      "outputs": [
        {
          "output_type": "execute_result",
          "data": {
            "text/plain": [
              "['x', 'y', 'z']"
            ]
          },
          "metadata": {},
          "execution_count": 47
        }
      ]
    },
    {
      "cell_type": "code",
      "source": [
        "hola = 'holas'\n",
        "hash(hola)"
      ],
      "metadata": {
        "colab": {
          "base_uri": "https://localhost:8080/"
        },
        "id": "RhRUvL7qM8nf",
        "outputId": "626f0167-3691-4346-cf73-8644cd2f7f83"
      },
      "execution_count": 48,
      "outputs": [
        {
          "output_type": "execute_result",
          "data": {
            "text/plain": [
              "3667732821894762131"
            ]
          },
          "metadata": {},
          "execution_count": 48
        }
      ]
    },
    {
      "cell_type": "code",
      "source": [
        "num_partitions = 2"
      ],
      "metadata": {
        "id": "I3cPfLzkV2L7"
      },
      "execution_count": 49,
      "outputs": []
    },
    {
      "cell_type": "code",
      "source": [
        "# indice = has(item) / num_partitions"
      ],
      "metadata": {
        "id": "ALq3_GTpV2Im"
      },
      "execution_count": 50,
      "outputs": []
    },
    {
      "cell_type": "code",
      "source": [
        "hash(hola)/num_partitions"
      ],
      "metadata": {
        "colab": {
          "base_uri": "https://localhost:8080/"
        },
        "id": "YHnlYSPrxg5f",
        "outputId": "27f25492-63bb-4658-8a70-99bd1947a0ab"
      },
      "execution_count": 51,
      "outputs": [
        {
          "output_type": "execute_result",
          "data": {
            "text/plain": [
              "1.833866410947381e+18"
            ]
          },
          "metadata": {},
          "execution_count": 51
        }
      ]
    },
    {
      "cell_type": "code",
      "source": [
        "rdd.getNumPartitions()"
      ],
      "metadata": {
        "colab": {
          "base_uri": "https://localhost:8080/"
        },
        "id": "pHbJ1j9mghnV",
        "outputId": "a0feece9-2782-4e59-8a33-4c55aef5483d"
      },
      "execution_count": 52,
      "outputs": [
        {
          "output_type": "execute_result",
          "data": {
            "text/plain": [
              "2"
            ]
          },
          "metadata": {},
          "execution_count": 52
        }
      ]
    },
    {
      "cell_type": "code",
      "source": [
        "hash('x') % num_partitions, hash('y') % num_partitions, hash('z') % num_partitions"
      ],
      "metadata": {
        "colab": {
          "base_uri": "https://localhost:8080/"
        },
        "id": "jqUFTLlJV2FT",
        "outputId": "cb2b6990-955a-4ce6-a424-df5cb10c0664"
      },
      "execution_count": 53,
      "outputs": [
        {
          "output_type": "execute_result",
          "data": {
            "text/plain": [
              "(1, 0, 1)"
            ]
          },
          "metadata": {},
          "execution_count": 53
        }
      ]
    },
    {
      "cell_type": "code",
      "source": [
        "rdd = sc.parallelize(['j', 'u', 's', 't', 'i', 'n'], 2)\n",
        "[(hash(p) % num_partitions, p) for p in rdd.collect() ]"
      ],
      "metadata": {
        "colab": {
          "base_uri": "https://localhost:8080/"
        },
        "id": "eRReEBNcxzQ4",
        "outputId": "04b26385-9dcd-4d3c-8e61-a1cf0f0a5f22"
      },
      "execution_count": 54,
      "outputs": [
        {
          "output_type": "execute_result",
          "data": {
            "text/plain": [
              "[(0, 'j'), (0, 'u'), (0, 's'), (0, 't'), (0, 'i'), (0, 'n')]"
            ]
          },
          "metadata": {},
          "execution_count": 54
        }
      ]
    },
    {
      "cell_type": "markdown",
      "source": [
        "# **Variables Broadcast**\n",
        "---"
      ],
      "metadata": {
        "id": "dltQA4hQiaeG"
      }
    },
    {
      "cell_type": "code",
      "source": [
        "br_uno = sc.broadcast(\"a\")"
      ],
      "metadata": {
        "id": "9yvF2FK20vek"
      },
      "execution_count": 55,
      "outputs": []
    },
    {
      "cell_type": "code",
      "source": [
        "br_uno.value"
      ],
      "metadata": {
        "colab": {
          "base_uri": "https://localhost:8080/",
          "height": 35
        },
        "id": "uzRGHYnQ0625",
        "outputId": "69f58717-a940-46fb-9806-4ec868c1d7ac"
      },
      "execution_count": 56,
      "outputs": [
        {
          "output_type": "execute_result",
          "data": {
            "text/plain": [
              "'a'"
            ],
            "application/vnd.google.colaboratory.intrinsic+json": {
              "type": "string"
            }
          },
          "metadata": {},
          "execution_count": 56
        }
      ]
    },
    {
      "cell_type": "code",
      "source": [
        "rdd1 = rdd.map(lambda x: x + br_uno.value)\n",
        "rdd1.collect()"
      ],
      "metadata": {
        "colab": {
          "base_uri": "https://localhost:8080/"
        },
        "id": "sbI3-g6r01Ow",
        "outputId": "22b49c0f-d89d-4a59-d0bf-08a721397311"
      },
      "execution_count": 57,
      "outputs": [
        {
          "output_type": "execute_result",
          "data": {
            "text/plain": [
              "['ja', 'ua', 'sa', 'ta', 'ia', 'na']"
            ]
          },
          "metadata": {},
          "execution_count": 57
        }
      ]
    },
    {
      "cell_type": "code",
      "source": [
        "# Eliminara las variables de la memoria cache en todos los ejecutores\n",
        "br_uno.unpersist()"
      ],
      "metadata": {
        "id": "eDXhWAikiiHW"
      },
      "execution_count": 58,
      "outputs": []
    },
    {
      "cell_type": "code",
      "source": [
        "br_uno.value"
      ],
      "metadata": {
        "colab": {
          "base_uri": "https://localhost:8080/",
          "height": 35
        },
        "id": "PZwoWVRk1Qxh",
        "outputId": "907dff7b-6a36-4c53-c46f-c01da491acb1"
      },
      "execution_count": 59,
      "outputs": [
        {
          "output_type": "execute_result",
          "data": {
            "text/plain": [
              "'a'"
            ],
            "application/vnd.google.colaboratory.intrinsic+json": {
              "type": "string"
            }
          },
          "metadata": {},
          "execution_count": 59
        }
      ]
    },
    {
      "cell_type": "code",
      "source": [
        "rdd1 = rdd.map(lambda x: x + br_uno.value+br_uno.value)\n",
        "rdd1.collect()"
      ],
      "metadata": {
        "colab": {
          "base_uri": "https://localhost:8080/"
        },
        "id": "d6J74g1giiEO",
        "outputId": "5120333d-0159-4879-d7ab-0fffb22b846b"
      },
      "execution_count": 60,
      "outputs": [
        {
          "output_type": "execute_result",
          "data": {
            "text/plain": [
              "['jaa', 'uaa', 'saa', 'taa', 'iaa', 'naa']"
            ]
          },
          "metadata": {},
          "execution_count": 60
        }
      ]
    },
    {
      "cell_type": "code",
      "source": [
        "# Destruir la variables broadcast\n",
        "br_uno.destroy()"
      ],
      "metadata": {
        "id": "VNyFCmuIiiBB"
      },
      "execution_count": 61,
      "outputs": []
    },
    {
      "cell_type": "code",
      "source": [
        "try:\n",
        "  rdd1 = rdd.map(lambda x: x + br_uno.value+br_uno.value)\n",
        "  rdd1.collect()\n",
        "except Exception as e:\n",
        "  print(e)"
      ],
      "metadata": {
        "colab": {
          "base_uri": "https://localhost:8080/"
        },
        "id": "EMfkaLpJ1hG5",
        "outputId": "2e1e5c97-0246-498e-e889-d8a22f804f91"
      },
      "execution_count": 62,
      "outputs": [
        {
          "output_type": "stream",
          "name": "stdout",
          "text": [
            "An error occurred while calling z:org.apache.spark.api.python.PythonRDD.collectAndServe.\n",
            ": org.apache.spark.SparkException: Task not serializable\n",
            "\tat org.apache.spark.util.ClosureCleaner$.ensureSerializable(ClosureCleaner.scala:444)\n",
            "\tat org.apache.spark.util.ClosureCleaner$.clean(ClosureCleaner.scala:416)\n",
            "\tat org.apache.spark.util.ClosureCleaner$.clean(ClosureCleaner.scala:163)\n",
            "\tat org.apache.spark.SparkContext.clean(SparkContext.scala:2669)\n",
            "\tat org.apache.spark.SparkContext.runJob(SparkContext.scala:2432)\n",
            "\tat org.apache.spark.SparkContext.runJob(SparkContext.scala:2458)\n",
            "\tat org.apache.spark.rdd.RDD.$anonfun$collect$1(RDD.scala:1049)\n",
            "\tat org.apache.spark.rdd.RDDOperationScope$.withScope(RDDOperationScope.scala:151)\n",
            "\tat org.apache.spark.rdd.RDDOperationScope$.withScope(RDDOperationScope.scala:112)\n",
            "\tat org.apache.spark.rdd.RDD.withScope(RDD.scala:410)\n",
            "\tat org.apache.spark.rdd.RDD.collect(RDD.scala:1048)\n",
            "\tat org.apache.spark.api.python.PythonRDD$.collectAndServe(PythonRDD.scala:195)\n",
            "\tat org.apache.spark.api.python.PythonRDD.collectAndServe(PythonRDD.scala)\n",
            "\tat jdk.internal.reflect.GeneratedMethodAccessor46.invoke(Unknown Source)\n",
            "\tat java.base/jdk.internal.reflect.DelegatingMethodAccessorImpl.invoke(DelegatingMethodAccessorImpl.java:43)\n",
            "\tat java.base/java.lang.reflect.Method.invoke(Method.java:566)\n",
            "\tat py4j.reflection.MethodInvoker.invoke(MethodInvoker.java:244)\n",
            "\tat py4j.reflection.ReflectionEngine.invoke(ReflectionEngine.java:374)\n",
            "\tat py4j.Gateway.invoke(Gateway.java:282)\n",
            "\tat py4j.commands.AbstractCommand.invokeMethod(AbstractCommand.java:132)\n",
            "\tat py4j.commands.CallCommand.execute(CallCommand.java:79)\n",
            "\tat py4j.ClientServerConnection.waitForCommands(ClientServerConnection.java:182)\n",
            "\tat py4j.ClientServerConnection.run(ClientServerConnection.java:106)\n",
            "\tat java.base/java.lang.Thread.run(Thread.java:829)\n",
            "Caused by: java.io.IOException: org.apache.spark.SparkException: [INTERNAL_ERROR_BROADCAST] Attempted to use Broadcast(36) after it was destroyed (destroy at NativeMethodAccessorImpl.java:0) \n",
            "\tat org.apache.spark.util.SparkErrorUtils.tryOrIOException(SparkErrorUtils.scala:42)\n",
            "\tat org.apache.spark.util.SparkErrorUtils.tryOrIOException$(SparkErrorUtils.scala:33)\n",
            "\tat org.apache.spark.util.Utils$.tryOrIOException(Utils.scala:94)\n",
            "\tat org.apache.spark.broadcast.TorrentBroadcast.writeObject(TorrentBroadcast.scala:246)\n",
            "\tat jdk.internal.reflect.GeneratedMethodAccessor21.invoke(Unknown Source)\n",
            "\tat java.base/jdk.internal.reflect.DelegatingMethodAccessorImpl.invoke(DelegatingMethodAccessorImpl.java:43)\n",
            "\tat java.base/java.lang.reflect.Method.invoke(Method.java:566)\n",
            "\tat java.base/java.io.ObjectStreamClass.invokeWriteObject(ObjectStreamClass.java:1016)\n",
            "\tat java.base/java.io.ObjectOutputStream.writeSerialData(ObjectOutputStream.java:1487)\n",
            "\tat java.base/java.io.ObjectOutputStream.writeOrdinaryObject(ObjectOutputStream.java:1423)\n",
            "\tat java.base/java.io.ObjectOutputStream.writeObject0(ObjectOutputStream.java:1169)\n",
            "\tat java.base/java.io.ObjectOutputStream.writeObject(ObjectOutputStream.java:345)\n",
            "\tat java.base/java.util.ArrayList.writeObject(ArrayList.java:897)\n",
            "\tat java.base/jdk.internal.reflect.GeneratedMethodAccessor29.invoke(Unknown Source)\n",
            "\tat java.base/jdk.internal.reflect.DelegatingMethodAccessorImpl.invoke(DelegatingMethodAccessorImpl.java:43)\n",
            "\tat java.base/java.lang.reflect.Method.invoke(Method.java:566)\n",
            "\tat java.base/java.io.ObjectStreamClass.invokeWriteObject(ObjectStreamClass.java:1016)\n",
            "\tat java.base/java.io.ObjectOutputStream.writeSerialData(ObjectOutputStream.java:1487)\n",
            "\tat java.base/java.io.ObjectOutputStream.writeOrdinaryObject(ObjectOutputStream.java:1423)\n",
            "\tat java.base/java.io.ObjectOutputStream.writeObject0(ObjectOutputStream.java:1169)\n",
            "\tat java.base/java.io.ObjectOutputStream.defaultWriteFields(ObjectOutputStream.java:1543)\n",
            "\tat java.base/java.io.ObjectOutputStream.writeSerialData(ObjectOutputStream.java:1500)\n",
            "\tat java.base/java.io.ObjectOutputStream.writeOrdinaryObject(ObjectOutputStream.java:1423)\n",
            "\tat java.base/java.io.ObjectOutputStream.writeObject0(ObjectOutputStream.java:1169)\n",
            "\tat java.base/java.io.ObjectOutputStream.defaultWriteFields(ObjectOutputStream.java:1543)\n",
            "\tat java.base/java.io.ObjectOutputStream.writeSerialData(ObjectOutputStream.java:1500)\n",
            "\tat java.base/java.io.ObjectOutputStream.writeOrdinaryObject(ObjectOutputStream.java:1423)\n",
            "\tat java.base/java.io.ObjectOutputStream.writeObject0(ObjectOutputStream.java:1169)\n",
            "\tat java.base/java.io.ObjectOutputStream.writeArray(ObjectOutputStream.java:1369)\n",
            "\tat java.base/java.io.ObjectOutputStream.writeObject0(ObjectOutputStream.java:1165)\n",
            "\tat java.base/java.io.ObjectOutputStream.defaultWriteFields(ObjectOutputStream.java:1543)\n",
            "\tat java.base/java.io.ObjectOutputStream.writeSerialData(ObjectOutputStream.java:1500)\n",
            "\tat java.base/java.io.ObjectOutputStream.writeOrdinaryObject(ObjectOutputStream.java:1423)\n",
            "\tat java.base/java.io.ObjectOutputStream.writeObject0(ObjectOutputStream.java:1169)\n",
            "\tat java.base/java.io.ObjectOutputStream.writeObject(ObjectOutputStream.java:345)\n",
            "\tat org.apache.spark.serializer.JavaSerializationStream.writeObject(JavaSerializer.scala:46)\n",
            "\tat org.apache.spark.serializer.JavaSerializerInstance.serialize(JavaSerializer.scala:115)\n",
            "\tat org.apache.spark.util.ClosureCleaner$.ensureSerializable(ClosureCleaner.scala:441)\n",
            "\t... 23 more\n",
            "Caused by: org.apache.spark.SparkException: [INTERNAL_ERROR_BROADCAST] Attempted to use Broadcast(36) after it was destroyed (destroy at NativeMethodAccessorImpl.java:0) \n",
            "\tat org.apache.spark.SparkException$.internalError(SparkException.scala:92)\n",
            "\tat org.apache.spark.SparkException$.internalError(SparkException.scala:100)\n",
            "\tat org.apache.spark.broadcast.Broadcast.assertValid(Broadcast.scala:145)\n",
            "\tat org.apache.spark.broadcast.TorrentBroadcast.$anonfun$writeObject$1(TorrentBroadcast.scala:247)\n",
            "\tat scala.runtime.java8.JFunction0$mcV$sp.apply(JFunction0$mcV$sp.java:23)\n",
            "\tat org.apache.spark.util.SparkErrorUtils.tryOrIOException(SparkErrorUtils.scala:35)\n",
            "\t... 60 more\n",
            "\n"
          ]
        }
      ]
    },
    {
      "cell_type": "code",
      "source": [
        "# Acumuladores\n",
        "spark = SparkSession.builder.master(\"local[*]\").appName('A').getOrCreate()\n",
        "spark"
      ],
      "metadata": {
        "colab": {
          "base_uri": "https://localhost:8080/",
          "height": 219
        },
        "id": "aLmTGLPydhSz",
        "outputId": "e0b89686-1698-481c-c27f-a10480ddf6c0"
      },
      "execution_count": 63,
      "outputs": [
        {
          "output_type": "execute_result",
          "data": {
            "text/plain": [
              "<pyspark.sql.session.SparkSession at 0x7d0928091ba0>"
            ],
            "text/html": [
              "\n",
              "            <div>\n",
              "                <p><b>SparkSession - in-memory</b></p>\n",
              "                \n",
              "        <div>\n",
              "            <p><b>SparkContext</b></p>\n",
              "\n",
              "            <p><a href=\"http://e3d29a04c1ac:4040\">Spark UI</a></p>\n",
              "\n",
              "            <dl>\n",
              "              <dt>Version</dt>\n",
              "                <dd><code>v3.5.3</code></dd>\n",
              "              <dt>Master</dt>\n",
              "                <dd><code>local[*]</code></dd>\n",
              "              <dt>AppName</dt>\n",
              "                <dd><code>A</code></dd>\n",
              "            </dl>\n",
              "        </div>\n",
              "        \n",
              "            </div>\n",
              "        "
            ]
          },
          "metadata": {},
          "execution_count": 63
        }
      ]
    },
    {
      "cell_type": "code",
      "source": [
        "acumuladores = sc.accumulator(0)\n",
        "acumuladores"
      ],
      "metadata": {
        "id": "w3epzfqvdhPC",
        "colab": {
          "base_uri": "https://localhost:8080/"
        },
        "outputId": "f50ffd9f-0648-4b4d-da37-3299c65fd80c"
      },
      "execution_count": 64,
      "outputs": [
        {
          "output_type": "execute_result",
          "data": {
            "text/plain": [
              "Accumulator<id=0, value=0>"
            ]
          },
          "metadata": {},
          "execution_count": 64
        }
      ]
    },
    {
      "cell_type": "code",
      "source": [
        "rdd = sc.parallelize([2,4,6,8,10])\n",
        "rdd"
      ],
      "metadata": {
        "id": "pj7mgYO_dhLq",
        "colab": {
          "base_uri": "https://localhost:8080/"
        },
        "outputId": "30aa1c43-3cc4-4dbb-838d-e6cefd0f296c"
      },
      "execution_count": 65,
      "outputs": [
        {
          "output_type": "execute_result",
          "data": {
            "text/plain": [
              "ParallelCollectionRDD[72] at readRDDFromFile at PythonRDD.scala:289"
            ]
          },
          "metadata": {},
          "execution_count": 65
        }
      ]
    },
    {
      "cell_type": "code",
      "source": [
        "rdd.foreach(lambda x: acumuladores.add(x))"
      ],
      "metadata": {
        "id": "nw5eFgLNdhIT"
      },
      "execution_count": 66,
      "outputs": []
    },
    {
      "cell_type": "code",
      "source": [
        "acumuladores.value"
      ],
      "metadata": {
        "colab": {
          "base_uri": "https://localhost:8080/"
        },
        "id": "PKaldVbIdhE6",
        "outputId": "a342bb62-06db-4a14-a76a-b6002f301f3f"
      },
      "execution_count": 67,
      "outputs": [
        {
          "output_type": "execute_result",
          "data": {
            "text/plain": [
              "30"
            ]
          },
          "metadata": {},
          "execution_count": 67
        }
      ]
    },
    {
      "cell_type": "code",
      "source": [
        "rdd1 = sc.parallelize('De que color es el caballo blanco de simon bolivar'.split(' '))"
      ],
      "metadata": {
        "id": "ysOAfhJddhCt"
      },
      "execution_count": 68,
      "outputs": []
    },
    {
      "cell_type": "code",
      "source": [
        "acumalador = sc.accumulator(0)"
      ],
      "metadata": {
        "id": "rw7j-roOdhBa"
      },
      "execution_count": 69,
      "outputs": []
    },
    {
      "cell_type": "code",
      "source": [
        "rdd1.foreach(lambda x: acumalador.add(3))"
      ],
      "metadata": {
        "id": "tDsF3lFaikm6"
      },
      "execution_count": 70,
      "outputs": []
    },
    {
      "cell_type": "code",
      "source": [
        "acumalador.value"
      ],
      "metadata": {
        "colab": {
          "base_uri": "https://localhost:8080/"
        },
        "id": "cZkm1NIXikj8",
        "outputId": "1e3d1c71-74cc-47bb-dd40-efe9800ed37e"
      },
      "execution_count": 71,
      "outputs": [
        {
          "output_type": "execute_result",
          "data": {
            "text/plain": [
              "30"
            ]
          },
          "metadata": {},
          "execution_count": 71
        }
      ]
    },
    {
      "cell_type": "markdown",
      "source": [
        "# Crar un Dataframe a partir de un RDD\n"
      ],
      "metadata": {
        "id": "MtbYgf0hk30-"
      }
    },
    {
      "cell_type": "code",
      "source": [
        "spark = SparkSession.builder.master(\"local[*]\").appName('A').getOrCreate()\n",
        "spark"
      ],
      "metadata": {
        "colab": {
          "base_uri": "https://localhost:8080/",
          "height": 219
        },
        "id": "mbDifQwKikgd",
        "outputId": "848607ff-7952-49bc-a972-0ca8314a2d9d"
      },
      "execution_count": 72,
      "outputs": [
        {
          "output_type": "execute_result",
          "data": {
            "text/plain": [
              "<pyspark.sql.session.SparkSession at 0x7d0928091ba0>"
            ],
            "text/html": [
              "\n",
              "            <div>\n",
              "                <p><b>SparkSession - in-memory</b></p>\n",
              "                \n",
              "        <div>\n",
              "            <p><b>SparkContext</b></p>\n",
              "\n",
              "            <p><a href=\"http://e3d29a04c1ac:4040\">Spark UI</a></p>\n",
              "\n",
              "            <dl>\n",
              "              <dt>Version</dt>\n",
              "                <dd><code>v3.5.3</code></dd>\n",
              "              <dt>Master</dt>\n",
              "                <dd><code>local[*]</code></dd>\n",
              "              <dt>AppName</dt>\n",
              "                <dd><code>A</code></dd>\n",
              "            </dl>\n",
              "        </div>\n",
              "        \n",
              "            </div>\n",
              "        "
            ]
          },
          "metadata": {},
          "execution_count": 72
        }
      ]
    },
    {
      "cell_type": "code",
      "source": [
        "rdd = sc.parallelize(e for e in range(15)).map(lambda x: (x,x**2))\n",
        "rdd.collect()"
      ],
      "metadata": {
        "colab": {
          "base_uri": "https://localhost:8080/"
        },
        "id": "J6b9rj6-kSeG",
        "outputId": "64083084-2531-4838-e8fb-ac27f41ac614"
      },
      "execution_count": 73,
      "outputs": [
        {
          "output_type": "execute_result",
          "data": {
            "text/plain": [
              "[(0, 0),\n",
              " (1, 1),\n",
              " (2, 4),\n",
              " (3, 9),\n",
              " (4, 16),\n",
              " (5, 25),\n",
              " (6, 36),\n",
              " (7, 49),\n",
              " (8, 64),\n",
              " (9, 81),\n",
              " (10, 100),\n",
              " (11, 121),\n",
              " (12, 144),\n",
              " (13, 169),\n",
              " (14, 196)]"
            ]
          },
          "metadata": {},
          "execution_count": 73
        }
      ]
    },
    {
      "cell_type": "code",
      "source": [
        "df = rdd.toDF(['nA', 'nB'])\n",
        "df.show(5)"
      ],
      "metadata": {
        "colab": {
          "base_uri": "https://localhost:8080/"
        },
        "id": "9rKMDdSc21hP",
        "outputId": "12505066-c35e-4362-bb2d-860533118c1e"
      },
      "execution_count": 74,
      "outputs": [
        {
          "output_type": "stream",
          "name": "stdout",
          "text": [
            "+---+---+\n",
            "| nA| nB|\n",
            "+---+---+\n",
            "|  0|  0|\n",
            "|  1|  1|\n",
            "|  2|  4|\n",
            "|  3|  9|\n",
            "|  4| 16|\n",
            "+---+---+\n",
            "only showing top 5 rows\n",
            "\n"
          ]
        }
      ]
    }
  ]
}